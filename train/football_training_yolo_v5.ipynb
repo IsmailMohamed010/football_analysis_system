{
 "cells": [
  {
   "cell_type": "code",
   "execution_count": 1,
   "id": "e1ef5d16",
   "metadata": {},
   "outputs": [
    {
     "name": "stdout",
     "output_type": "stream",
     "text": [
      "Collecting roboflow\n",
      "  Downloading roboflow-1.2.3-py3-none-any.whl.metadata (9.7 kB)\n",
      "Requirement already satisfied: certifi in e:\\anaconda\\lib\\site-packages (from roboflow) (2025.7.14)\n",
      "Requirement already satisfied: idna==3.7 in e:\\anaconda\\lib\\site-packages (from roboflow) (3.7)\n",
      "Requirement already satisfied: cycler in e:\\anaconda\\lib\\site-packages (from roboflow) (0.11.0)\n",
      "Requirement already satisfied: kiwisolver>=1.3.1 in e:\\anaconda\\lib\\site-packages (from roboflow) (1.4.4)\n",
      "Requirement already satisfied: matplotlib in e:\\anaconda\\lib\\site-packages (from roboflow) (3.8.4)\n",
      "Requirement already satisfied: numpy>=1.18.5 in e:\\anaconda\\lib\\site-packages (from roboflow) (1.26.4)\n",
      "Collecting opencv-python-headless==4.10.0.84 (from roboflow)\n",
      "  Downloading opencv_python_headless-4.10.0.84-cp37-abi3-win_amd64.whl.metadata (20 kB)\n",
      "Requirement already satisfied: Pillow>=7.1.2 in e:\\anaconda\\lib\\site-packages (from roboflow) (10.3.0)\n",
      "Collecting pi-heif<2 (from roboflow)\n",
      "  Downloading pi_heif-1.1.0-cp312-cp312-win_amd64.whl.metadata (6.7 kB)\n",
      "Collecting pillow-avif-plugin<2 (from roboflow)\n",
      "  Downloading pillow_avif_plugin-1.5.2-cp312-cp312-win_amd64.whl.metadata (2.2 kB)\n",
      "Requirement already satisfied: python-dateutil in e:\\anaconda\\lib\\site-packages (from roboflow) (2.9.0.post0)\n",
      "Requirement already satisfied: python-dotenv in e:\\anaconda\\lib\\site-packages (from roboflow) (0.21.0)\n",
      "Requirement already satisfied: requests in e:\\anaconda\\lib\\site-packages (from roboflow) (2.32.2)\n",
      "Requirement already satisfied: six in e:\\anaconda\\lib\\site-packages (from roboflow) (1.16.0)\n",
      "Requirement already satisfied: urllib3>=1.26.6 in e:\\anaconda\\lib\\site-packages (from roboflow) (2.2.2)\n",
      "Requirement already satisfied: tqdm>=4.41.0 in e:\\anaconda\\lib\\site-packages (from roboflow) (4.66.4)\n",
      "Requirement already satisfied: PyYAML>=5.3.1 in e:\\anaconda\\lib\\site-packages (from roboflow) (6.0.1)\n",
      "Requirement already satisfied: requests-toolbelt in e:\\anaconda\\lib\\site-packages (from roboflow) (1.0.0)\n",
      "Collecting filetype (from roboflow)\n",
      "  Downloading filetype-1.2.0-py2.py3-none-any.whl.metadata (6.5 kB)\n",
      "Collecting Pillow>=7.1.2 (from roboflow)\n",
      "  Downloading pillow-11.3.0-cp312-cp312-win_amd64.whl.metadata (9.2 kB)\n",
      "Requirement already satisfied: colorama in e:\\anaconda\\lib\\site-packages (from tqdm>=4.41.0->roboflow) (0.4.6)\n",
      "Requirement already satisfied: contourpy>=1.0.1 in e:\\anaconda\\lib\\site-packages (from matplotlib->roboflow) (1.2.0)\n",
      "Requirement already satisfied: fonttools>=4.22.0 in e:\\anaconda\\lib\\site-packages (from matplotlib->roboflow) (4.51.0)\n",
      "Requirement already satisfied: packaging>=20.0 in e:\\anaconda\\lib\\site-packages (from matplotlib->roboflow) (23.2)\n",
      "Requirement already satisfied: pyparsing>=2.3.1 in e:\\anaconda\\lib\\site-packages (from matplotlib->roboflow) (3.0.9)\n",
      "Requirement already satisfied: charset-normalizer<4,>=2 in e:\\anaconda\\lib\\site-packages (from requests->roboflow) (2.0.4)\n",
      "Downloading roboflow-1.2.3-py3-none-any.whl (86 kB)\n",
      "Downloading opencv_python_headless-4.10.0.84-cp37-abi3-win_amd64.whl (38.8 MB)\n",
      "   ---------------------------------------- 0.0/38.8 MB ? eta -:--:--\n",
      "   ---------------------------------------- 0.0/38.8 MB ? eta -:--:--\n",
      "   ---------------------------------------- 0.3/38.8 MB ? eta -:--:--\n",
      "    --------------------------------------- 0.5/38.8 MB 1.7 MB/s eta 0:00:23\n",
      "   - -------------------------------------- 1.0/38.8 MB 1.7 MB/s eta 0:00:23\n",
      "   - -------------------------------------- 1.3/38.8 MB 1.7 MB/s eta 0:00:22\n",
      "   - -------------------------------------- 1.3/38.8 MB 1.7 MB/s eta 0:00:22\n",
      "   - -------------------------------------- 1.3/38.8 MB 1.7 MB/s eta 0:00:22\n",
      "   - -------------------------------------- 1.8/38.8 MB 1.2 MB/s eta 0:00:30\n",
      "   -- ------------------------------------- 2.6/38.8 MB 1.7 MB/s eta 0:00:22\n",
      "   --- ------------------------------------ 3.1/38.8 MB 1.7 MB/s eta 0:00:21\n",
      "   --- ------------------------------------ 3.4/38.8 MB 1.7 MB/s eta 0:00:21\n",
      "   --- ------------------------------------ 3.4/38.8 MB 1.7 MB/s eta 0:00:21\n",
      "   --- ------------------------------------ 3.4/38.8 MB 1.7 MB/s eta 0:00:21\n",
      "   ---- ----------------------------------- 4.5/38.8 MB 1.7 MB/s eta 0:00:21\n",
      "   ----- ---------------------------------- 5.0/38.8 MB 1.7 MB/s eta 0:00:20\n",
      "   ----- ---------------------------------- 5.2/38.8 MB 1.7 MB/s eta 0:00:20\n",
      "   ----- ---------------------------------- 5.8/38.8 MB 1.7 MB/s eta 0:00:20\n",
      "   ------ --------------------------------- 6.0/38.8 MB 1.7 MB/s eta 0:00:20\n",
      "   ------ --------------------------------- 6.3/38.8 MB 1.7 MB/s eta 0:00:19\n",
      "   ------- -------------------------------- 6.8/38.8 MB 1.7 MB/s eta 0:00:19\n",
      "   ------- -------------------------------- 7.1/38.8 MB 1.7 MB/s eta 0:00:19\n",
      "   ------- -------------------------------- 7.3/38.8 MB 1.7 MB/s eta 0:00:19\n",
      "   -------- ------------------------------- 7.9/38.8 MB 1.7 MB/s eta 0:00:19\n",
      "   -------- ------------------------------- 8.1/38.8 MB 1.7 MB/s eta 0:00:18\n",
      "   -------- ------------------------------- 8.4/38.8 MB 1.7 MB/s eta 0:00:18\n",
      "   --------- ------------------------------ 8.9/38.8 MB 1.7 MB/s eta 0:00:18\n",
      "   --------- ------------------------------ 9.2/38.8 MB 1.7 MB/s eta 0:00:18\n",
      "   ---------- ----------------------------- 9.7/38.8 MB 1.7 MB/s eta 0:00:17\n",
      "   ---------- ----------------------------- 10.0/38.8 MB 1.7 MB/s eta 0:00:17\n",
      "   ---------- ----------------------------- 10.2/38.8 MB 1.7 MB/s eta 0:00:17\n",
      "   ----------- ---------------------------- 10.7/38.8 MB 1.7 MB/s eta 0:00:17\n",
      "   ----------- ---------------------------- 11.0/38.8 MB 1.7 MB/s eta 0:00:17\n",
      "   ----------- ---------------------------- 11.5/38.8 MB 1.7 MB/s eta 0:00:16\n",
      "   ------------ --------------------------- 11.8/38.8 MB 1.7 MB/s eta 0:00:16\n",
      "   ------------ --------------------------- 12.1/38.8 MB 1.7 MB/s eta 0:00:16\n",
      "   ------------ --------------------------- 12.6/38.8 MB 1.7 MB/s eta 0:00:16\n",
      "   ------------- -------------------------- 12.8/38.8 MB 1.7 MB/s eta 0:00:16\n",
      "   ------------- -------------------------- 13.4/38.8 MB 1.7 MB/s eta 0:00:15\n",
      "   -------------- ------------------------- 13.6/38.8 MB 1.7 MB/s eta 0:00:15\n",
      "   -------------- ------------------------- 13.9/38.8 MB 1.7 MB/s eta 0:00:15\n",
      "   -------------- ------------------------- 14.4/38.8 MB 1.7 MB/s eta 0:00:15\n",
      "   --------------- ------------------------ 14.7/38.8 MB 1.7 MB/s eta 0:00:14\n",
      "   --------------- ------------------------ 15.2/38.8 MB 1.7 MB/s eta 0:00:14\n",
      "   --------------- ------------------------ 15.5/38.8 MB 1.7 MB/s eta 0:00:14\n",
      "   ---------------- ----------------------- 15.7/38.8 MB 1.7 MB/s eta 0:00:14\n",
      "   ---------------- ----------------------- 16.0/38.8 MB 1.7 MB/s eta 0:00:14\n",
      "   ----------------- ---------------------- 16.5/38.8 MB 1.7 MB/s eta 0:00:13\n",
      "   ----------------- ---------------------- 16.8/38.8 MB 1.7 MB/s eta 0:00:13\n",
      "   ----------------- ---------------------- 17.3/38.8 MB 1.7 MB/s eta 0:00:13\n",
      "   ------------------ --------------------- 17.6/38.8 MB 1.7 MB/s eta 0:00:13\n",
      "   ------------------ --------------------- 17.8/38.8 MB 1.7 MB/s eta 0:00:13\n",
      "   ------------------ --------------------- 18.4/38.8 MB 1.7 MB/s eta 0:00:12\n",
      "   ------------------- -------------------- 18.6/38.8 MB 1.7 MB/s eta 0:00:12\n",
      "   ------------------- -------------------- 19.1/38.8 MB 1.7 MB/s eta 0:00:12\n",
      "   -------------------- ------------------- 19.4/38.8 MB 1.7 MB/s eta 0:00:12\n",
      "   -------------------- ------------------- 19.7/38.8 MB 1.7 MB/s eta 0:00:12\n",
      "   -------------------- ------------------- 20.2/38.8 MB 1.7 MB/s eta 0:00:11\n",
      "   --------------------- ------------------ 20.4/38.8 MB 1.7 MB/s eta 0:00:11\n",
      "   --------------------- ------------------ 20.7/38.8 MB 1.7 MB/s eta 0:00:11\n",
      "   --------------------- ------------------ 21.2/38.8 MB 1.7 MB/s eta 0:00:11\n",
      "   ---------------------- ----------------- 21.5/38.8 MB 1.7 MB/s eta 0:00:11\n",
      "   ---------------------- ----------------- 22.0/38.8 MB 1.7 MB/s eta 0:00:10\n",
      "   ---------------------- ----------------- 22.3/38.8 MB 1.7 MB/s eta 0:00:10\n",
      "   ---------------------- ----------------- 22.3/38.8 MB 1.7 MB/s eta 0:00:10\n",
      "   ---------------------- ----------------- 22.3/38.8 MB 1.7 MB/s eta 0:00:10\n",
      "   ------------------------ --------------- 23.3/38.8 MB 1.7 MB/s eta 0:00:09\n",
      "   ------------------------ --------------- 23.6/38.8 MB 1.7 MB/s eta 0:00:09\n",
      "   ------------------------ --------------- 23.9/38.8 MB 1.7 MB/s eta 0:00:09\n",
      "   ------------------------ --------------- 23.9/38.8 MB 1.7 MB/s eta 0:00:09\n",
      "   ------------------------- -------------- 24.4/38.8 MB 1.7 MB/s eta 0:00:09\n",
      "   ------------------------- -------------- 24.4/38.8 MB 1.7 MB/s eta 0:00:09\n",
      "   ------------------------- -------------- 24.9/38.8 MB 1.7 MB/s eta 0:00:09\n",
      "   -------------------------- ------------- 25.4/38.8 MB 1.7 MB/s eta 0:00:08\n",
      "   -------------------------- ------------- 25.7/38.8 MB 1.7 MB/s eta 0:00:08\n",
      "   -------------------------- ------------- 26.0/38.8 MB 1.7 MB/s eta 0:00:08\n",
      "   --------------------------- ------------ 26.5/38.8 MB 1.7 MB/s eta 0:00:08\n",
      "   --------------------------- ------------ 26.7/38.8 MB 1.7 MB/s eta 0:00:08\n",
      "   --------------------------- ------------ 27.0/38.8 MB 1.7 MB/s eta 0:00:07\n",
      "   ---------------------------- ----------- 27.3/38.8 MB 1.7 MB/s eta 0:00:07\n",
      "   ---------------------------- ----------- 27.8/38.8 MB 1.7 MB/s eta 0:00:07\n",
      "   ---------------------------- ----------- 28.0/38.8 MB 1.7 MB/s eta 0:00:07\n",
      "   ----------------------------- ---------- 28.6/38.8 MB 1.7 MB/s eta 0:00:07\n",
      "   ----------------------------- ---------- 28.8/38.8 MB 1.7 MB/s eta 0:00:06\n",
      "   ------------------------------ --------- 29.1/38.8 MB 1.7 MB/s eta 0:00:06\n",
      "   ------------------------------ --------- 29.6/38.8 MB 1.7 MB/s eta 0:00:06\n",
      "   ------------------------------ --------- 29.9/38.8 MB 1.7 MB/s eta 0:00:06\n",
      "   ------------------------------- -------- 30.4/38.8 MB 1.7 MB/s eta 0:00:05\n",
      "   ------------------------------- -------- 30.7/38.8 MB 1.7 MB/s eta 0:00:05\n",
      "   ------------------------------- -------- 30.9/38.8 MB 1.7 MB/s eta 0:00:05\n",
      "   -------------------------------- ------- 31.5/38.8 MB 1.7 MB/s eta 0:00:05\n",
      "   -------------------------------- ------- 31.7/38.8 MB 1.7 MB/s eta 0:00:05\n",
      "   --------------------------------- ------ 32.0/38.8 MB 1.7 MB/s eta 0:00:05\n",
      "   --------------------------------- ------ 32.5/38.8 MB 1.7 MB/s eta 0:00:04\n",
      "   --------------------------------- ------ 32.5/38.8 MB 1.7 MB/s eta 0:00:04\n",
      "   ---------------------------------- ----- 33.0/38.8 MB 1.7 MB/s eta 0:00:04\n",
      "   ---------------------------------- ----- 33.6/38.8 MB 1.7 MB/s eta 0:00:04\n",
      "   ---------------------------------- ----- 33.8/38.8 MB 1.7 MB/s eta 0:00:03\n",
      "   ----------------------------------- ---- 34.1/38.8 MB 1.7 MB/s eta 0:00:03\n",
      "   ----------------------------------- ---- 34.1/38.8 MB 1.7 MB/s eta 0:00:03\n",
      "   ----------------------------------- ---- 34.9/38.8 MB 1.7 MB/s eta 0:00:03\n",
      "   ------------------------------------ --- 35.1/38.8 MB 1.7 MB/s eta 0:00:03\n",
      "   ------------------------------------ --- 35.7/38.8 MB 1.7 MB/s eta 0:00:02\n",
      "   ------------------------------------- -- 35.9/38.8 MB 1.7 MB/s eta 0:00:02\n",
      "   ------------------------------------- -- 36.2/38.8 MB 1.7 MB/s eta 0:00:02\n",
      "   ------------------------------------- -- 36.7/38.8 MB 1.7 MB/s eta 0:00:02\n",
      "   -------------------------------------- - 37.0/38.8 MB 1.7 MB/s eta 0:00:02\n",
      "   -------------------------------------- - 37.5/38.8 MB 1.7 MB/s eta 0:00:01\n",
      "   -------------------------------------- - 37.7/38.8 MB 1.7 MB/s eta 0:00:01\n",
      "   ---------------------------------------  38.0/38.8 MB 1.7 MB/s eta 0:00:01\n",
      "   ---------------------------------------  38.3/38.8 MB 1.7 MB/s eta 0:00:01\n",
      "   ---------------------------------------  38.5/38.8 MB 1.7 MB/s eta 0:00:01\n",
      "   ---------------------------------------- 38.8/38.8 MB 1.7 MB/s eta 0:00:00\n",
      "Downloading pi_heif-1.1.0-cp312-cp312-win_amd64.whl (1.9 MB)\n",
      "   ---------------------------------------- 0.0/1.9 MB ? eta -:--:--\n",
      "   ----- ---------------------------------- 0.3/1.9 MB ? eta -:--:--\n",
      "   ----------- ---------------------------- 0.5/1.9 MB 1.7 MB/s eta 0:00:01\n",
      "   ---------------------- ----------------- 1.0/1.9 MB 1.7 MB/s eta 0:00:01\n",
      "   --------------------------- ------------ 1.3/1.9 MB 1.5 MB/s eta 0:00:01\n",
      "   --------------------------------- ------ 1.6/1.9 MB 1.7 MB/s eta 0:00:01\n",
      "   ---------------------------------------- 1.9/1.9 MB 1.6 MB/s eta 0:00:00\n",
      "Downloading pillow-11.3.0-cp312-cp312-win_amd64.whl (7.0 MB)\n",
      "   ---------------------------------------- 0.0/7.0 MB ? eta -:--:--\n",
      "   - -------------------------------------- 0.3/7.0 MB ? eta -:--:--\n",
      "   --- ------------------------------------ 0.5/7.0 MB 1.5 MB/s eta 0:00:05\n",
      "   ------ --------------------------------- 1.0/7.0 MB 1.7 MB/s eta 0:00:04\n",
      "   ------- -------------------------------- 1.3/7.0 MB 1.7 MB/s eta 0:00:04\n",
      "   ---------- ----------------------------- 1.8/7.0 MB 1.7 MB/s eta 0:00:03\n",
      "   ------------ --------------------------- 2.1/7.0 MB 1.7 MB/s eta 0:00:03\n",
      "   ------------- -------------------------- 2.4/7.0 MB 1.7 MB/s eta 0:00:03\n",
      "   ---------------- ----------------------- 2.9/7.0 MB 1.7 MB/s eta 0:00:03\n",
      "   ------------------ --------------------- 3.1/7.0 MB 1.7 MB/s eta 0:00:03\n",
      "   ------------------- -------------------- 3.4/7.0 MB 1.7 MB/s eta 0:00:03\n",
      "   ---------------------- ----------------- 3.9/7.0 MB 1.7 MB/s eta 0:00:02\n",
      "   ------------------------ --------------- 4.2/7.0 MB 1.7 MB/s eta 0:00:02\n",
      "   ------------------------- -------------- 4.5/7.0 MB 1.7 MB/s eta 0:00:02\n",
      "   ---------------------------- ----------- 5.0/7.0 MB 1.7 MB/s eta 0:00:02\n",
      "   ------------------------------ --------- 5.2/7.0 MB 1.7 MB/s eta 0:00:02\n",
      "   ------------------------------- -------- 5.5/7.0 MB 1.7 MB/s eta 0:00:01\n",
      "   ---------------------------------- ----- 6.0/7.0 MB 1.7 MB/s eta 0:00:01\n",
      "   ------------------------------------ --- 6.3/7.0 MB 1.7 MB/s eta 0:00:01\n",
      "   ------------------------------------- -- 6.6/7.0 MB 1.7 MB/s eta 0:00:01\n",
      "   ---------------------------------------- 7.0/7.0 MB 1.7 MB/s eta 0:00:00\n",
      "Downloading pillow_avif_plugin-1.5.2-cp312-cp312-win_amd64.whl (9.9 MB)\n",
      "   ---------------------------------------- 0.0/9.9 MB ? eta -:--:--\n",
      "   ---------------------------------------- 0.0/9.9 MB ? eta -:--:--\n",
      "   ---------------------------------------- 0.0/9.9 MB ? eta -:--:--\n",
      "   - -------------------------------------- 0.3/9.9 MB ? eta -:--:--\n",
      "   -- ------------------------------------- 0.5/9.9 MB 837.5 kB/s eta 0:00:12\n",
      "   ---- ----------------------------------- 1.0/9.9 MB 1.7 MB/s eta 0:00:06\n",
      "   ----- ---------------------------------- 1.3/9.9 MB 1.8 MB/s eta 0:00:05\n",
      "   ----- ---------------------------------- 1.3/9.9 MB 1.8 MB/s eta 0:00:05\n",
      "   ------ --------------------------------- 1.6/9.9 MB 1.3 MB/s eta 0:00:07\n",
      "   -------- ------------------------------- 2.1/9.9 MB 1.3 MB/s eta 0:00:06\n",
      "   --------- ------------------------------ 2.4/9.9 MB 1.3 MB/s eta 0:00:06\n",
      "   ---------- ----------------------------- 2.6/9.9 MB 1.4 MB/s eta 0:00:06\n",
      "   ----------- ---------------------------- 2.9/9.9 MB 1.4 MB/s eta 0:00:05\n",
      "   ------------ --------------------------- 3.1/9.9 MB 1.4 MB/s eta 0:00:05\n",
      "   ------------- -------------------------- 3.4/9.9 MB 1.4 MB/s eta 0:00:05\n",
      "   --------------- ------------------------ 3.9/9.9 MB 1.4 MB/s eta 0:00:05\n",
      "   ----------------- ---------------------- 4.2/9.9 MB 1.5 MB/s eta 0:00:04\n",
      "   ------------------- -------------------- 4.7/9.9 MB 1.5 MB/s eta 0:00:04\n",
      "   -------------------- ------------------- 5.0/9.9 MB 1.5 MB/s eta 0:00:04\n",
      "   --------------------- ------------------ 5.2/9.9 MB 1.5 MB/s eta 0:00:04\n",
      "   ---------------------- ----------------- 5.5/9.9 MB 1.5 MB/s eta 0:00:03\n",
      "   ------------------------ --------------- 6.0/9.9 MB 1.5 MB/s eta 0:00:03\n",
      "   ------------------------- -------------- 6.3/9.9 MB 1.5 MB/s eta 0:00:03\n",
      "   -------------------------- ------------- 6.6/9.9 MB 1.5 MB/s eta 0:00:03\n",
      "   -------------------------- ------------- 6.6/9.9 MB 1.5 MB/s eta 0:00:03\n",
      "   --------------------------- ------------ 6.8/9.9 MB 1.4 MB/s eta 0:00:03\n",
      "   --------------------------- ------------ 6.8/9.9 MB 1.4 MB/s eta 0:00:03\n",
      "   ---------------------------- ----------- 7.1/9.9 MB 1.3 MB/s eta 0:00:03\n",
      "   ---------------------------- ----------- 7.1/9.9 MB 1.3 MB/s eta 0:00:03\n",
      "   ---------------------------- ----------- 7.1/9.9 MB 1.3 MB/s eta 0:00:03\n",
      "   ------------------------------ --------- 7.6/9.9 MB 1.3 MB/s eta 0:00:02\n",
      "   ------------------------------- -------- 7.9/9.9 MB 1.3 MB/s eta 0:00:02\n",
      "   ------------------------------- -------- 7.9/9.9 MB 1.3 MB/s eta 0:00:02\n",
      "   -------------------------------- ------- 8.1/9.9 MB 1.2 MB/s eta 0:00:02\n",
      "   -------------------------------- ------- 8.1/9.9 MB 1.2 MB/s eta 0:00:02\n",
      "   -------------------------------- ------- 8.1/9.9 MB 1.2 MB/s eta 0:00:02\n",
      "   ----------------------------------- ---- 8.7/9.9 MB 1.2 MB/s eta 0:00:02\n",
      "   ----------------------------------- ---- 8.7/9.9 MB 1.2 MB/s eta 0:00:02\n",
      "   ------------------------------------ --- 8.9/9.9 MB 1.2 MB/s eta 0:00:01\n",
      "   ------------------------------------- -- 9.2/9.9 MB 1.2 MB/s eta 0:00:01\n",
      "   ------------------------------------- -- 9.2/9.9 MB 1.2 MB/s eta 0:00:01\n",
      "   -------------------------------------- - 9.4/9.9 MB 1.1 MB/s eta 0:00:01\n",
      "   -------------------------------------- - 9.4/9.9 MB 1.1 MB/s eta 0:00:01\n",
      "   ---------------------------------------  9.7/9.9 MB 1.1 MB/s eta 0:00:01\n",
      "   ---------------------------------------- 9.9/9.9 MB 1.1 MB/s eta 0:00:00\n",
      "Downloading filetype-1.2.0-py2.py3-none-any.whl (19 kB)\n",
      "Installing collected packages: pillow-avif-plugin, filetype, Pillow, opencv-python-headless, pi-heif, roboflow\n",
      "  Attempting uninstall: Pillow\n",
      "    Found existing installation: pillow 10.3.0\n",
      "    Uninstalling pillow-10.3.0:\n",
      "      Successfully uninstalled pillow-10.3.0\n",
      "Successfully installed Pillow-11.3.0 filetype-1.2.0 opencv-python-headless-4.10.0.84 pi-heif-1.1.0 pillow-avif-plugin-1.5.2 roboflow-1.2.3\n"
     ]
    },
    {
     "name": "stderr",
     "output_type": "stream",
     "text": [
      "ERROR: pip's dependency resolver does not currently take into account all the packages that are installed. This behaviour is the source of the following dependency conflicts.\n",
      "streamlit 1.32.0 requires pillow<11,>=7.1.0, but you have pillow 11.3.0 which is incompatible.\n",
      "\n",
      "[notice] A new release of pip is available: 25.0.1 -> 25.2\n",
      "[notice] To update, run: python.exe -m pip install --upgrade pip\n"
     ]
    }
   ],
   "source": [
    "!pip install roboflow"
   ]
  },
  {
   "cell_type": "markdown",
   "id": "5d2fcb22",
   "metadata": {},
   "source": [
    "#   Get Dataset"
   ]
  },
  {
   "cell_type": "code",
   "execution_count": null,
   "id": "cff58737",
   "metadata": {},
   "outputs": [
    {
     "name": "stdout",
     "output_type": "stream",
     "text": [
      "loading Roboflow workspace...\n",
      "loading Roboflow project...\n"
     ]
    },
    {
     "name": "stderr",
     "output_type": "stream",
     "text": [
      "Downloading Dataset Version Zip in football-players-detection-1 to yolov5pytorch:: 100%|██████████| 148663/148663 [01:46<00:00, 1396.88it/s]"
     ]
    },
    {
     "name": "stdout",
     "output_type": "stream",
     "text": [
      "\n"
     ]
    },
    {
     "name": "stderr",
     "output_type": "stream",
     "text": [
      "\n",
      "Extracting Dataset Version Zip to football-players-detection-1 in yolov5pytorch:: 100%|██████████| 1338/1338 [00:01<00:00, 1096.12it/s]\n"
     ]
    }
   ],
   "source": [
    "from roboflow import Roboflow\n",
    "rf = Roboflow(api_key=ROBOFLOW_DATASET_API_KEY)\n",
    "project = rf.workspace(\"roboflow-jvuqo\").project(\"football-players-detection-3zvbc\")\n",
    "version = project.version(1)\n",
    "dataset = version.download(\"yolov5\")"
   ]
  },
  {
   "cell_type": "code",
   "execution_count": 3,
   "id": "ddcb58db",
   "metadata": {},
   "outputs": [
    {
     "data": {
      "text/plain": [
       "'football-players-detection-1/football-players-detection-1/valid'"
      ]
     },
     "execution_count": 3,
     "metadata": {},
     "output_type": "execute_result"
    }
   ],
   "source": [
    "import shutil\n",
    "\n",
    "shutil.move(\"football-players-detection-1/train\",\"football-players-detection-1/football-players-detection-1/train\")\n",
    "shutil.move(\"football-players-detection-1/test\",\"football-players-detection-1/football-players-detection-1/test\")\n",
    "shutil.move(\"football-players-detection-1/valid\",\"football-players-detection-1/football-players-detection-1/valid\")"
   ]
  },
  {
   "cell_type": "markdown",
   "id": "91415742",
   "metadata": {},
   "source": [
    "#   Training"
   ]
  },
  {
   "cell_type": "code",
   "execution_count": null,
   "id": "372cd5cb",
   "metadata": {},
   "outputs": [
    {
     "name": "stderr",
     "output_type": "stream",
     "text": [
      "'yolo' is not recognized as an internal or external command,\n",
      "operable program or batch file.\n"
     ]
    }
   ],
   "source": [
    "!yolo task=detect mode=train model=yolov5s.pt data={dataset.location}/data.yaml epochs=100 imgsz=640 batch=16 name=football-players-detection-1"
   ]
  },
  {
   "cell_type": "code",
   "execution_count": null,
   "id": "c29776a3",
   "metadata": {},
   "outputs": [],
   "source": []
  }
 ],
 "metadata": {
  "kernelspec": {
   "display_name": "base",
   "language": "python",
   "name": "python3"
  },
  "language_info": {
   "codemirror_mode": {
    "name": "ipython",
    "version": 3
   },
   "file_extension": ".py",
   "mimetype": "text/x-python",
   "name": "python",
   "nbconvert_exporter": "python",
   "pygments_lexer": "ipython3",
   "version": "3.12.3"
  }
 },
 "nbformat": 4,
 "nbformat_minor": 5
}
